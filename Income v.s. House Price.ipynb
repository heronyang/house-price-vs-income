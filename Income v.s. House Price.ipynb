{
 "cells": [
  {
   "cell_type": "markdown",
   "metadata": {},
   "source": [
    "> That is, when will we afford a house?"
   ]
  },
  {
   "cell_type": "markdown",
   "metadata": {},
   "source": [
    "# Motivation"
   ]
  },
  {
   "cell_type": "code",
   "execution_count": 1,
   "metadata": {
    "collapsed": true
   },
   "outputs": [],
   "source": [
    "## TODO"
   ]
  },
  {
   "cell_type": "markdown",
   "metadata": {},
   "source": [
    "# Introduction"
   ]
  },
  {
   "cell_type": "code",
   "execution_count": 2,
   "metadata": {
    "collapsed": true
   },
   "outputs": [],
   "source": [
    "## TODO"
   ]
  },
  {
   "cell_type": "markdown",
   "metadata": {},
   "source": [
    "We will have following sections:\n",
    "\n",
    "0. Zipcode and Shape Data\n",
    "1. Income Data\n",
    "2. House Price Data\n",
    "3. Income v.s. House Price"
   ]
  },
  {
   "cell_type": "markdown",
   "metadata": {},
   "source": [
    "# Setup"
   ]
  },
  {
   "cell_type": "markdown",
   "metadata": {},
   "source": [
    "Run following command in your terminal:\n",
    "\n",
    "    $ pip install -r requirements.txt"
   ]
  },
  {
   "cell_type": "markdown",
   "metadata": {},
   "source": [
    "# Zipcode and Shape Data"
   ]
  },
  {
   "cell_type": "markdown",
   "metadata": {},
   "source": [
    "## Retrieve Zip Code List"
   ]
  },
  {
   "cell_type": "code",
   "execution_count": 3,
   "metadata": {
    "collapsed": true
   },
   "outputs": [],
   "source": [
    "import os\n",
    "import json\n",
    "import ntpath\n",
    "import wget"
   ]
  },
  {
   "cell_type": "code",
   "execution_count": 4,
   "metadata": {
    "collapsed": true
   },
   "outputs": [],
   "source": [
    "\"\"\"\n",
    "Reference: https://catalog.data.gov/dataset/bay-area-zip-codes\n",
    "\"\"\"\n",
    "def get_bay_area_zipcode():\n",
    "    \n",
    "    url = \"https://data.sfgov.org/api/views/f9wk-m4qb/rows.json?accessType=DOWNLOAD\"\n",
    "    filename = \"rows.json\"\n",
    "\n",
    "    # Remove previous downloaded csv file if exists\n",
    "    try:\n",
    "        os.remove(ntpath.basename(filename))\n",
    "    except OSError:\n",
    "        pass\n",
    "    \n",
    "    filename = wget.download(url)\n",
    "    with open(filename) as f:\n",
    "        raw_data = json.load(f)\n",
    "        zipcode_list = [row[10] for row in raw_data[\"data\"]]\n",
    "    return zipcode_list"
   ]
  },
  {
   "cell_type": "code",
   "execution_count": 49,
   "metadata": {},
   "outputs": [
    {
     "name": "stdout",
     "output_type": "stream",
     "text": [
      "187\n",
      "['94558', '94533', '95620', '95476', '94559', '94954', '94571', '94535', '94503', '94949', '94945', '94512', '94591', '94510', '94592', '94589', '94947', '94590', '94946', '94561', '94525', '94569', '94585', '94103', '94565', '94903', '94520', '94572', '94553', '94547', '94963', '94938', '94502', '94509', '94960', '94513', '94109', '94521', '94930', '94973', '94933', '94598', '94564', '94801', '94519', '94806', '94901', '94531', '94803', '94601', '94523', '94518', '94904', '94115', '94549', '94517', '94805', '94804', '94939', '94964', '94530', '94925', '94596', '94708', '94105', '94941', '94563', '94720', '94707', '94514', '94970', '94706', '94710', '94104', '94595', '94709', '94703', '94704', '94507', '94702', '94965', '94556', '94920', '94118', '94705', '94611', '94618', '94609', '94550', '94608', '94528', '94526', '94506', '94130', '94607', '94123', '94610', '94583', '94602', '94612', '94546', '94133', '94129', '94606', '94111', '94619', '94121', '94102', '94552', '94501', '94108', '94605', '94613', '94117', '94122', '94621', '94114', '94107', '94110', '94588', '94131', '94603', '94116', '94124', '94127', '94577', '94132', '94112', '94134', '94568', '94578', '94015', '94005', '94014', '94579', '94580', '94541', '94566', '94542', '94544', '94044', '94545', '94586', '94080', '94587', '94066', '94128', '94401', '94019', '94030', '94555', '94038', '94010', '94536', '94539', '94402', '94404', '94403', '94538', '94560', '94065', '94063', '94027', '94002', '94070', '95134', '95002', '94062', '94089', '94301', '94025', '94303', '95035', '95140', '94061', '94043', '94304', '94305', '94035', '94306', '94028', '94040', '94022', '94085', '94086', '94024', '94087']\n"
     ]
    }
   ],
   "source": [
    "zipcode_list = get_bay_area_zipcode()\n",
    "print(len(zipcode_list))\n",
    "print(zipcode_list)"
   ]
  },
  {
   "cell_type": "markdown",
   "metadata": {},
   "source": [
    "## Retrieve Shape Data"
   ]
  },
  {
   "cell_type": "code",
   "execution_count": 6,
   "metadata": {
    "collapsed": true
   },
   "outputs": [],
   "source": [
    "import os\n",
    "import zipfile\n",
    "import shutil\n",
    "import shapefile"
   ]
  },
  {
   "cell_type": "code",
   "execution_count": 7,
   "metadata": {
    "collapsed": true
   },
   "outputs": [],
   "source": [
    "\"\"\"\n",
    "Source: https://www.census.gov/geo/maps-data/data/cbf/cbf_zcta.html\n",
    "\"\"\"\n",
    "def download_zipcode_shapefile():\n",
    "    \n",
    "    url = \"http://www2.census.gov/geo/tiger/GENZ2016/shp/cb_2016_us_zcta510_500k.zip\"\n",
    "    output = \"./data/\"\n",
    "    target = \"./data/cb_2016_us_zcta510_500k.shp\"\n",
    "    \n",
    "    # Remove previous extracted folder if exists\n",
    "    try:\n",
    "        shutil.rmtree(output)\n",
    "    except OSError:\n",
    "        pass\n",
    "    \n",
    "    # Remove previous downloaded zip file if exists\n",
    "    try:\n",
    "        os.remove(ntpath.basename(url))\n",
    "    except OSError:\n",
    "        pass\n",
    "    \n",
    "    # Download and extract\n",
    "    zip_data = wget.download(url)\n",
    "    with zipfile.ZipFile(zip_data) as zip_ref:\n",
    "        zip_ref.extractall(output)\n",
    "        \n",
    "    return target"
   ]
  },
  {
   "cell_type": "code",
   "execution_count": 8,
   "metadata": {
    "collapsed": true
   },
   "outputs": [],
   "source": [
    "raw_data = download_zipcode_shapefile()\n",
    "shape_records = shapefile.Reader(raw_data).shapeRecords()"
   ]
  },
  {
   "cell_type": "code",
   "execution_count": 9,
   "metadata": {
    "collapsed": true
   },
   "outputs": [],
   "source": [
    "def filter_shape_record(shape_records, zipcode_list):\n",
    "    filtered = []\n",
    "    for sr in shape_records:\n",
    "        if sr.record[0] in zipcode_list:\n",
    "            filtered.append(sr)\n",
    "    return filtered"
   ]
  },
  {
   "cell_type": "code",
   "execution_count": 10,
   "metadata": {},
   "outputs": [
    {
     "name": "stdout",
     "output_type": "stream",
     "text": [
      "186 187\n"
     ]
    }
   ],
   "source": [
    "filtered_shape_records = filter_shape_record(shape_records, zipcode_list)\n",
    "print(len(filtered_shape_records), len(zipcode_list))"
   ]
  },
  {
   "cell_type": "markdown",
   "metadata": {},
   "source": [
    "# Income"
   ]
  },
  {
   "cell_type": "markdown",
   "metadata": {},
   "source": [
    "## Retrieve Income Data"
   ]
  },
  {
   "cell_type": "code",
   "execution_count": 11,
   "metadata": {
    "collapsed": true
   },
   "outputs": [],
   "source": [
    "import re\n",
    "import requests\n",
    "import pandas as pd\n",
    "from bs4 import BeautifulSoup"
   ]
  },
  {
   "cell_type": "code",
   "execution_count": 12,
   "metadata": {
    "collapsed": true
   },
   "outputs": [],
   "source": [
    "\"\"\"\n",
    "Source: https://factfinder.census.gov/faces/nav/jsf/pages/community_facts.xhtml\n",
    "Example: https://factfinder.census.gov/rest/communityFactsNav/nav?spotlightId=INCOME&searchTerm=94041\n",
    "\"\"\"\n",
    "def get_avg_income_by_zipcode(zipcode):\n",
    "    url = \"https://factfinder.census.gov/rest/communityFactsNav/nav?spotlightId=INCOME&searchTerm=\" + str(zipcode)\n",
    "    req = requests.get(url=url)\n",
    "    html = req.json()[\"CFMetaData\"][\"measureAndLinksContent\"]\n",
    "    dom = BeautifulSoup(html, \"lxml\")\n",
    "    try:\n",
    "        income = re.sub('[^0-9]','', dom.findAll(\"div\", {\"class\": \"value\"})[0].text)\n",
    "    except Exception:\n",
    "        print(\"No value found for zipcode %s\" % zipcode)\n",
    "        return None\n",
    "    print(zipcode, income)\n",
    "    return income"
   ]
  },
  {
   "cell_type": "code",
   "execution_count": 13,
   "metadata": {},
   "outputs": [
    {
     "name": "stdout",
     "output_type": "stream",
     "text": [
      "94558 77299\n"
     ]
    }
   ],
   "source": [
    "# Test\n",
    "zipcode = 94558\n",
    "avg_income = get_avg_income_by_zipcode(zipcode)"
   ]
  },
  {
   "cell_type": "code",
   "execution_count": 65,
   "metadata": {
    "collapsed": true
   },
   "outputs": [],
   "source": [
    "def get_income(zipcode_list):\n",
    "    m = {}\n",
    "    for zipcode in zipcode_list:\n",
    "        income = get_avg_income_by_zipcode(zipcode)\n",
    "        if income:\n",
    "            m[zipcode] = int(income)\n",
    "    income = pd.DataFrame.from_dict(m, orient = \"index\")\n",
    "    income.columns = [\"income\"]\n",
    "    income.sort_values(by=[\"income\"], inplace=True, ascending=False)\n",
    "    return income"
   ]
  },
  {
   "cell_type": "code",
   "execution_count": 66,
   "metadata": {},
   "outputs": [
    {
     "name": "stdout",
     "output_type": "stream",
     "text": [
      "94558 77299\n",
      "94533 57316\n",
      "95620 72583\n",
      "95476 68894\n",
      "94559 65891\n",
      "94954 83713\n",
      "94571 54852\n",
      "94535 54692\n",
      "94503 83627\n",
      "94949 78568\n",
      "94945 90685\n",
      "No value found for zipcode 94512\n",
      "94591 73897\n",
      "94510 87569\n",
      "94592 110648\n",
      "94589 57316\n",
      "94947 88119\n",
      "94590 41530\n",
      "94946 108750\n",
      "94561 81910\n",
      "94525 78750\n",
      "94569 136875\n",
      "94585 70491\n",
      "94103 46140\n",
      "94565 60020\n",
      "94903 92552\n",
      "94520 51096\n",
      "94572 70227\n",
      "94553 84638\n",
      "94547 102993\n",
      "94963 91806\n",
      "94938 103854\n",
      "94502 115765\n",
      "94509 55022\n",
      "94960 112045\n",
      "94513 93951\n",
      "94109 71043\n",
      "94521 88339\n",
      "94930 99338\n",
      "94973 90824\n",
      "94933 76393\n",
      "94598 125089\n",
      "94564 73861\n",
      "94801 43393\n",
      "94519 74351\n",
      "94806 52698\n",
      "94901 82231\n",
      "94531 90126\n",
      "94803 78759\n",
      "94601 41918\n",
      "94523 94042\n",
      "94518 78301\n",
      "94904 111845\n",
      "94115 97090\n",
      "94549 147368\n",
      "94517 128398\n",
      "94805 72009\n",
      "94804 51276\n",
      "94939 99844\n",
      "94964 107167\n",
      "94530 91052\n",
      "94925 125915\n",
      "94596 82869\n",
      "94708 147837\n",
      "94105 195165\n",
      "94941 131703\n",
      "94563 174526\n",
      "No value found for zipcode 94720\n",
      "94707 140711\n",
      "94514 54348\n",
      "94970 109412\n",
      "94706 86043\n",
      "94710 63080\n",
      "94104 51500\n",
      "94595 62374\n",
      "94709 63701\n",
      "94703 68842\n",
      "94704 26173\n",
      "94507 172414\n",
      "94702 67280\n",
      "94965 102415\n",
      "94556 136771\n",
      "94920 155710\n",
      "94118 94197\n",
      "94705 105461\n",
      "94611 115065\n",
      "94618 139570\n",
      "94609 67827\n",
      "94550 109793\n",
      "94608 61069\n",
      "No value found for zipcode 94528\n",
      "94526 138287\n",
      "94506 175947\n",
      "94130 49271\n",
      "94607 35360\n",
      "94123 130589\n",
      "94610 83052\n",
      "94583 129182\n",
      "94602 72850\n",
      "94612 35977\n",
      "94546 78556\n",
      "94133 55098\n",
      "94129 174564\n",
      "94606 43314\n",
      "94111 104083\n",
      "94619 79225\n",
      "94121 77280\n",
      "94102 29456\n",
      "94552 131108\n",
      "94501 76787\n",
      "94108 46218\n",
      "94605 62061\n",
      "No value found for zipcode 94613\n",
      "94117 122266\n",
      "94122 97091\n",
      "94621 31027\n",
      "94114 131442\n",
      "94107 129152\n",
      "94110 97563\n",
      "94588 130888\n",
      "94131 111083\n",
      "94603 44294\n",
      "94116 91930\n",
      "94124 53322\n",
      "94127 138381\n",
      "94577 65009\n",
      "94132 68711\n",
      "94112 77388\n",
      "94134 66925\n",
      "94568 126054\n",
      "94578 50838\n",
      "94015 81956\n",
      "94005 91127\n",
      "94014 75658\n",
      "94579 73771\n",
      "94580 80188\n",
      "94541 63801\n",
      "94566 129064\n",
      "94542 99647\n",
      "94544 62660\n",
      "94044 103545\n",
      "94545 81125\n",
      "94586 91932\n",
      "94080 85204\n",
      "94587 91629\n",
      "94066 89008\n",
      "No value found for zipcode 94128\n",
      "94401 76361\n",
      "94019 107265\n",
      "94030 98709\n",
      "94555 124947\n",
      "94038 94423\n",
      "94010 125768\n",
      "94536 102450\n",
      "94539 152402\n",
      "94402 128163\n",
      "94404 126618\n",
      "94403 103612\n",
      "94538 94193\n",
      "94560 91965\n",
      "94065 145518\n",
      "94063 60434\n",
      "94027 243542\n",
      "94002 119530\n",
      "94070 135030\n",
      "95134 126515\n",
      "95002 74516\n",
      "94062 135808\n",
      "94089 94903\n",
      "94301 135427\n",
      "94025 131854\n",
      "94303 91866\n",
      "95035 103545\n",
      "No value found for zipcode 95140\n",
      "94061 89578\n",
      "94043 105030\n",
      "94304 105320\n",
      "94305 53173\n",
      "No value found for zipcode 94035\n",
      "94306 119157\n",
      "94028 229554\n",
      "94040 115600\n",
      "94022 194014\n",
      "94085 101051\n",
      "94086 104449\n",
      "94024 204534\n",
      "94087 129668\n"
     ]
    }
   ],
   "source": [
    "income = get_income(zipcode_list)"
   ]
  },
  {
   "cell_type": "code",
   "execution_count": 67,
   "metadata": {},
   "outputs": [
    {
     "data": {
      "text/html": [
       "<div>\n",
       "<style>\n",
       "    .dataframe thead tr:only-child th {\n",
       "        text-align: right;\n",
       "    }\n",
       "\n",
       "    .dataframe thead th {\n",
       "        text-align: left;\n",
       "    }\n",
       "\n",
       "    .dataframe tbody tr th {\n",
       "        vertical-align: top;\n",
       "    }\n",
       "</style>\n",
       "<table border=\"1\" class=\"dataframe\">\n",
       "  <thead>\n",
       "    <tr style=\"text-align: right;\">\n",
       "      <th></th>\n",
       "      <th>income</th>\n",
       "    </tr>\n",
       "  </thead>\n",
       "  <tbody>\n",
       "    <tr>\n",
       "      <th>94027</th>\n",
       "      <td>243542</td>\n",
       "    </tr>\n",
       "    <tr>\n",
       "      <th>94028</th>\n",
       "      <td>229554</td>\n",
       "    </tr>\n",
       "    <tr>\n",
       "      <th>94024</th>\n",
       "      <td>204534</td>\n",
       "    </tr>\n",
       "    <tr>\n",
       "      <th>94105</th>\n",
       "      <td>195165</td>\n",
       "    </tr>\n",
       "    <tr>\n",
       "      <th>94022</th>\n",
       "      <td>194014</td>\n",
       "    </tr>\n",
       "  </tbody>\n",
       "</table>\n",
       "</div>"
      ],
      "text/plain": [
       "       income\n",
       "94027  243542\n",
       "94028  229554\n",
       "94024  204534\n",
       "94105  195165\n",
       "94022  194014"
      ]
     },
     "execution_count": 67,
     "metadata": {},
     "output_type": "execute_result"
    }
   ],
   "source": [
    "# zipcodes with top high income\n",
    "income.head()"
   ]
  },
  {
   "cell_type": "markdown",
   "metadata": {},
   "source": [
    "## Plot"
   ]
  },
  {
   "cell_type": "code",
   "execution_count": 68,
   "metadata": {
    "collapsed": true
   },
   "outputs": [],
   "source": [
    "import matplotlib.pyplot as plt\n",
    "from matplotlib import colors\n",
    "from matplotlib import cm as cmx"
   ]
  },
  {
   "cell_type": "code",
   "execution_count": 71,
   "metadata": {
    "collapsed": true
   },
   "outputs": [],
   "source": [
    "def get_normalized_df(df):\n",
    "    return (df - df.min()) / (df.max() - df.min())"
   ]
  },
  {
   "cell_type": "code",
   "execution_count": 72,
   "metadata": {},
   "outputs": [
    {
     "name": "stdout",
     "output_type": "stream",
     "text": [
      "0.23520373190289323\n"
     ]
    }
   ],
   "source": [
    "normalized_df = get_normalized_df(income)\n",
    "print(normalized_df.get_value(\"94558\", \"income\"))"
   ]
  },
  {
   "cell_type": "code",
   "execution_count": 84,
   "metadata": {
    "collapsed": true
   },
   "outputs": [],
   "source": [
    "\"\"\"\n",
    "Reference: https://gis.stackexchange.com/questions/131716/plot-shapefile-with-matplotlib\n",
    "\"\"\"\n",
    "def plot_shapes(shape_records, record2value, column_name):\n",
    "    plt.clf()\n",
    "    plt.figure()\n",
    "    for sr in shape_records:\n",
    "        index = sr.record[0]\n",
    "        try:\n",
    "            val = record2value.get_value(index, column_name)\n",
    "        except KeyError:\n",
    "            continue\n",
    "        x = [i[0] for i in sr.shape.points[:]]\n",
    "        y = [i[1] for i in sr.shape.points[:]]\n",
    "        plt.fill(x, y, get_heapmap_color_hex(val))\n",
    "    plt.show()\n",
    "    plt.close()"
   ]
  },
  {
   "cell_type": "code",
   "execution_count": 85,
   "metadata": {
    "collapsed": true
   },
   "outputs": [],
   "source": [
    "\"\"\"\n",
    "Jet colormap: https://www.mathworks.com/help/matlab/ref/jet.html\n",
    "\"\"\"\n",
    "def get_heapmap_color_hex(val):\n",
    "    r, g, b = plt.cm.jet(val)[:3]\n",
    "    return \"#%02x%02x%02x\" % (int(r * 255), int(g * 255), int(b * 255))"
   ]
  },
  {
   "cell_type": "code",
   "execution_count": 86,
   "metadata": {},
   "outputs": [
    {
     "name": "stdout",
     "output_type": "stream",
     "text": [
      "#7cff79\n",
      "#7f0000\n"
     ]
    }
   ],
   "source": [
    "print(get_heapmap_color_hex(0.5))\n",
    "print(get_heapmap_color_hex(1.0))"
   ]
  },
  {
   "cell_type": "code",
   "execution_count": 87,
   "metadata": {
    "scrolled": true
   },
   "outputs": [
    {
     "data": {
      "text/plain": [
       "<matplotlib.figure.Figure at 0x12c9217b8>"
      ]
     },
     "metadata": {},
     "output_type": "display_data"
    },
    {
     "data": {
      "image/png": "[encoded data removed]",
      "text/plain": [
       "<matplotlib.figure.Figure at 0x12c914160>"
      ]
     },
     "metadata": {},
     "output_type": "display_data"
    }
   ],
   "source": [
    "plt.rcParams[\"figure.figsize\"] = [6, 10] # Size: [width, height]\n",
    "plot_shapes(filtered_shape_records, normalized_df, \"income\")"
   ]
  },
  {
   "cell_type": "markdown",
   "metadata": {},
   "source": [
    "# House Price Data"
   ]
  },
  {
   "cell_type": "markdown",
   "metadata": {},
   "source": [
    "## Retrieve House Price Data\n",
    "\n",
    "The house price data is downloaded from [Zillow](https://www.zillow.com/research/data/), that has the house price from 1996 to 2018. For this project, we will use the most recent house price."
   ]
  },
  {
   "cell_type": "code",
   "execution_count": 88,
   "metadata": {
    "collapsed": true
   },
   "outputs": [],
   "source": [
    "def load_data(file_name):\n",
    "    \n",
    "    df = pd.read_csv(file_name, na_filter=False)\n",
    "        \n",
    "    # drop instance with missing values\n",
    "    df = df.replace(\"\", pd.np.nan).dropna(how='any')\n",
    "    \n",
    "    # convert values to int data type\n",
    "    y = \"1996\"\n",
    "    m = \"04\"\n",
    "    date = y + \"-\" + m\n",
    "    while date != \"2018-02\":        \n",
    "        df[date] = df[date].apply(pd.to_numeric)       \n",
    "        if m == \"12\":\n",
    "            m = \"01\"\n",
    "            y = str(int(y)+1)\n",
    "        else:\n",
    "            m = int(m)+1\n",
    "            if m < 10:\n",
    "                m = \"0\"+str(m)\n",
    "            else:\n",
    "                m = str(m)       \n",
    "        date = y + \"-\" + m\n",
    "    \n",
    "    # convert zipcode to string data type\n",
    "    df['RegionName'] = df['RegionName'].apply(str)\n",
    "    \n",
    "    # set zipcode as index\n",
    "    df.set_index('RegionName', inplace=True)\n",
    "    return df\n",
    "\n",
    "houses = load_data(\"homes_CA.csv\")"
   ]
  },
  {
   "cell_type": "code",
   "execution_count": 89,
   "metadata": {
    "scrolled": true
   },
   "outputs": [
    {
     "data": {
      "text/html": [
       "<div>\n",
       "<style>\n",
       "    .dataframe thead tr:only-child th {\n",
       "        text-align: right;\n",
       "    }\n",
       "\n",
       "    .dataframe thead th {\n",
       "        text-align: left;\n",
       "    }\n",
       "\n",
       "    .dataframe tbody tr th {\n",
       "        vertical-align: top;\n",
       "    }\n",
       "</style>\n",
       "<table border=\"1\" class=\"dataframe\">\n",
       "  <thead>\n",
       "    <tr style=\"text-align: right;\">\n",
       "      <th></th>\n",
       "      <th>RegionID</th>\n",
       "      <th>City</th>\n",
       "      <th>State</th>\n",
       "      <th>Metro</th>\n",
       "      <th>CountyName</th>\n",
       "      <th>SizeRank</th>\n",
       "      <th>1996-04</th>\n",
       "      <th>1996-05</th>\n",
       "      <th>1996-06</th>\n",
       "      <th>1996-07</th>\n",
       "      <th>...</th>\n",
       "      <th>2017-05</th>\n",
       "      <th>2017-06</th>\n",
       "      <th>2017-07</th>\n",
       "      <th>2017-08</th>\n",
       "      <th>2017-09</th>\n",
       "      <th>2017-10</th>\n",
       "      <th>2017-11</th>\n",
       "      <th>2017-12</th>\n",
       "      <th>2018-01</th>\n",
       "      <th>2018-02</th>\n",
       "    </tr>\n",
       "    <tr>\n",
       "      <th>RegionName</th>\n",
       "      <th></th>\n",
       "      <th></th>\n",
       "      <th></th>\n",
       "      <th></th>\n",
       "      <th></th>\n",
       "      <th></th>\n",
       "      <th></th>\n",
       "      <th></th>\n",
       "      <th></th>\n",
       "      <th></th>\n",
       "      <th></th>\n",
       "      <th></th>\n",
       "      <th></th>\n",
       "      <th></th>\n",
       "      <th></th>\n",
       "      <th></th>\n",
       "      <th></th>\n",
       "      <th></th>\n",
       "      <th></th>\n",
       "      <th></th>\n",
       "      <th></th>\n",
       "    </tr>\n",
       "  </thead>\n",
       "  <tbody>\n",
       "    <tr>\n",
       "      <th>93306</th>\n",
       "      <td>97222</td>\n",
       "      <td>Bakersfield</td>\n",
       "      <td>CA</td>\n",
       "      <td>Bakersfield</td>\n",
       "      <td>Kern</td>\n",
       "      <td>333</td>\n",
       "      <td>86800</td>\n",
       "      <td>87100</td>\n",
       "      <td>87500</td>\n",
       "      <td>88200</td>\n",
       "      <td>...</td>\n",
       "      <td>186300</td>\n",
       "      <td>186300</td>\n",
       "      <td>186500</td>\n",
       "      <td>187000</td>\n",
       "      <td>187700</td>\n",
       "      <td>188500</td>\n",
       "      <td>189400</td>\n",
       "      <td>190600</td>\n",
       "      <td>192100</td>\n",
       "      <td>193700</td>\n",
       "    </tr>\n",
       "    <tr>\n",
       "      <th>93307</th>\n",
       "      <td>97223</td>\n",
       "      <td>Bakersfield</td>\n",
       "      <td>CA</td>\n",
       "      <td>Bakersfield</td>\n",
       "      <td>Kern</td>\n",
       "      <td>343</td>\n",
       "      <td>67000</td>\n",
       "      <td>66800</td>\n",
       "      <td>67100</td>\n",
       "      <td>67800</td>\n",
       "      <td>...</td>\n",
       "      <td>159100</td>\n",
       "      <td>159600</td>\n",
       "      <td>159400</td>\n",
       "      <td>159200</td>\n",
       "      <td>159900</td>\n",
       "      <td>160300</td>\n",
       "      <td>160800</td>\n",
       "      <td>161500</td>\n",
       "      <td>162600</td>\n",
       "      <td>164000</td>\n",
       "    </tr>\n",
       "    <tr>\n",
       "      <th>93309</th>\n",
       "      <td>97225</td>\n",
       "      <td>Bakersfield</td>\n",
       "      <td>CA</td>\n",
       "      <td>Bakersfield</td>\n",
       "      <td>Kern</td>\n",
       "      <td>348</td>\n",
       "      <td>89000</td>\n",
       "      <td>89200</td>\n",
       "      <td>89100</td>\n",
       "      <td>88700</td>\n",
       "      <td>...</td>\n",
       "      <td>188300</td>\n",
       "      <td>189300</td>\n",
       "      <td>189700</td>\n",
       "      <td>190300</td>\n",
       "      <td>191200</td>\n",
       "      <td>191900</td>\n",
       "      <td>192000</td>\n",
       "      <td>192200</td>\n",
       "      <td>193200</td>\n",
       "      <td>194500</td>\n",
       "    </tr>\n",
       "    <tr>\n",
       "      <th>93308</th>\n",
       "      <td>97224</td>\n",
       "      <td>Oildale</td>\n",
       "      <td>CA</td>\n",
       "      <td>Bakersfield</td>\n",
       "      <td>Kern</td>\n",
       "      <td>587</td>\n",
       "      <td>82700</td>\n",
       "      <td>83500</td>\n",
       "      <td>84000</td>\n",
       "      <td>84700</td>\n",
       "      <td>...</td>\n",
       "      <td>190000</td>\n",
       "      <td>190500</td>\n",
       "      <td>191000</td>\n",
       "      <td>191100</td>\n",
       "      <td>191000</td>\n",
       "      <td>191100</td>\n",
       "      <td>191700</td>\n",
       "      <td>191800</td>\n",
       "      <td>192600</td>\n",
       "      <td>194100</td>\n",
       "    </tr>\n",
       "    <tr>\n",
       "      <th>93312</th>\n",
       "      <td>97227</td>\n",
       "      <td>Bakersfield</td>\n",
       "      <td>CA</td>\n",
       "      <td>Bakersfield</td>\n",
       "      <td>Kern</td>\n",
       "      <td>747</td>\n",
       "      <td>132400</td>\n",
       "      <td>132300</td>\n",
       "      <td>132300</td>\n",
       "      <td>131900</td>\n",
       "      <td>...</td>\n",
       "      <td>272500</td>\n",
       "      <td>272700</td>\n",
       "      <td>272500</td>\n",
       "      <td>272900</td>\n",
       "      <td>273800</td>\n",
       "      <td>274700</td>\n",
       "      <td>275600</td>\n",
       "      <td>276600</td>\n",
       "      <td>277900</td>\n",
       "      <td>279600</td>\n",
       "    </tr>\n",
       "  </tbody>\n",
       "</table>\n",
       "<p>5 rows × 269 columns</p>\n",
       "</div>"
      ],
      "text/plain": [
       "            RegionID         City State        Metro CountyName  SizeRank  \\\n",
       "RegionName                                                                  \n",
       "93306          97222  Bakersfield    CA  Bakersfield       Kern       333   \n",
       "93307          97223  Bakersfield    CA  Bakersfield       Kern       343   \n",
       "93309          97225  Bakersfield    CA  Bakersfield       Kern       348   \n",
       "93308          97224      Oildale    CA  Bakersfield       Kern       587   \n",
       "93312          97227  Bakersfield    CA  Bakersfield       Kern       747   \n",
       "\n",
       "            1996-04  1996-05  1996-06  1996-07   ...     2017-05  2017-06  \\\n",
       "RegionName                                       ...                        \n",
       "93306         86800    87100    87500    88200   ...      186300   186300   \n",
       "93307         67000    66800    67100    67800   ...      159100   159600   \n",
       "93309         89000    89200    89100    88700   ...      188300   189300   \n",
       "93308         82700    83500    84000    84700   ...      190000   190500   \n",
       "93312        132400   132300   132300   131900   ...      272500   272700   \n",
       "\n",
       "            2017-07  2017-08  2017-09  2017-10  2017-11  2017-12  2018-01  \\\n",
       "RegionName                                                                  \n",
       "93306        186500   187000   187700   188500   189400   190600   192100   \n",
       "93307        159400   159200   159900   160300   160800   161500   162600   \n",
       "93309        189700   190300   191200   191900   192000   192200   193200   \n",
       "93308        191000   191100   191000   191100   191700   191800   192600   \n",
       "93312        272500   272900   273800   274700   275600   276600   277900   \n",
       "\n",
       "            2018-02  \n",
       "RegionName           \n",
       "93306        193700  \n",
       "93307        164000  \n",
       "93309        194500  \n",
       "93308        194100  \n",
       "93312        279600  \n",
       "\n",
       "[5 rows x 269 columns]"
      ]
     },
     "execution_count": 89,
     "metadata": {},
     "output_type": "execute_result"
    }
   ],
   "source": [
    "houses.head()"
   ]
  },
  {
   "cell_type": "markdown",
   "metadata": {},
   "source": [
    "## Get the Most Recent House Price"
   ]
  },
  {
   "cell_type": "code",
   "execution_count": 90,
   "metadata": {
    "collapsed": true
   },
   "outputs": [],
   "source": [
    "def get_most_recent_houseprice(df):\n",
    "    house_price = df[[\"2018-02\"]].copy()\n",
    "    house_price.rename(columns={\"2018-02\": \"price\"}, inplace=True)\n",
    "    return house_price\n",
    "\n",
    "most_recent_houseprice = get_most_recent_houseprice(houses)   "
   ]
  },
  {
   "cell_type": "code",
   "execution_count": 91,
   "metadata": {},
   "outputs": [
    {
     "data": {
      "text/html": [
       "<div>\n",
       "<style>\n",
       "    .dataframe thead tr:only-child th {\n",
       "        text-align: right;\n",
       "    }\n",
       "\n",
       "    .dataframe thead th {\n",
       "        text-align: left;\n",
       "    }\n",
       "\n",
       "    .dataframe tbody tr th {\n",
       "        vertical-align: top;\n",
       "    }\n",
       "</style>\n",
       "<table border=\"1\" class=\"dataframe\">\n",
       "  <thead>\n",
       "    <tr style=\"text-align: right;\">\n",
       "      <th></th>\n",
       "      <th>price</th>\n",
       "    </tr>\n",
       "    <tr>\n",
       "      <th>RegionName</th>\n",
       "      <th></th>\n",
       "    </tr>\n",
       "  </thead>\n",
       "  <tbody>\n",
       "    <tr>\n",
       "      <th>93306</th>\n",
       "      <td>193700</td>\n",
       "    </tr>\n",
       "    <tr>\n",
       "      <th>93307</th>\n",
       "      <td>164000</td>\n",
       "    </tr>\n",
       "    <tr>\n",
       "      <th>93309</th>\n",
       "      <td>194500</td>\n",
       "    </tr>\n",
       "    <tr>\n",
       "      <th>93308</th>\n",
       "      <td>194100</td>\n",
       "    </tr>\n",
       "    <tr>\n",
       "      <th>93312</th>\n",
       "      <td>279600</td>\n",
       "    </tr>\n",
       "  </tbody>\n",
       "</table>\n",
       "</div>"
      ],
      "text/plain": [
       "             price\n",
       "RegionName        \n",
       "93306       193700\n",
       "93307       164000\n",
       "93309       194500\n",
       "93308       194100\n",
       "93312       279600"
      ]
     },
     "execution_count": 91,
     "metadata": {},
     "output_type": "execute_result"
    }
   ],
   "source": [
    "most_recent_houseprice.head()"
   ]
  },
  {
   "cell_type": "code",
   "execution_count": 92,
   "metadata": {
    "scrolled": true
   },
   "outputs": [
    {
     "data": {
      "text/html": [
       "<div>\n",
       "<style>\n",
       "    .dataframe thead tr:only-child th {\n",
       "        text-align: right;\n",
       "    }\n",
       "\n",
       "    .dataframe thead th {\n",
       "        text-align: left;\n",
       "    }\n",
       "\n",
       "    .dataframe tbody tr th {\n",
       "        vertical-align: top;\n",
       "    }\n",
       "</style>\n",
       "<table border=\"1\" class=\"dataframe\">\n",
       "  <thead>\n",
       "    <tr style=\"text-align: right;\">\n",
       "      <th></th>\n",
       "      <th>price</th>\n",
       "    </tr>\n",
       "    <tr>\n",
       "      <th>RegionName</th>\n",
       "      <th></th>\n",
       "    </tr>\n",
       "  </thead>\n",
       "  <tbody>\n",
       "    <tr>\n",
       "      <th>93501</th>\n",
       "      <td>101100</td>\n",
       "    </tr>\n",
       "    <tr>\n",
       "      <th>92365</th>\n",
       "      <td>117200</td>\n",
       "    </tr>\n",
       "    <tr>\n",
       "      <th>92277</th>\n",
       "      <td>123700</td>\n",
       "    </tr>\n",
       "    <tr>\n",
       "      <th>93241</th>\n",
       "      <td>124600</td>\n",
       "    </tr>\n",
       "    <tr>\n",
       "      <th>93268</th>\n",
       "      <td>127000</td>\n",
       "    </tr>\n",
       "  </tbody>\n",
       "</table>\n",
       "</div>"
      ],
      "text/plain": [
       "             price\n",
       "RegionName        \n",
       "93501       101100\n",
       "92365       117200\n",
       "92277       123700\n",
       "93241       124600\n",
       "93268       127000"
      ]
     },
     "execution_count": 92,
     "metadata": {},
     "output_type": "execute_result"
    }
   ],
   "source": [
    "# zipcodes with top low house price\n",
    "\n",
    "most_recent_houseprice.sort_values(by=['price'], inplace=True)\n",
    "most_recent_houseprice.head()"
   ]
  },
  {
   "cell_type": "markdown",
   "metadata": {},
   "source": [
    "## Retrieve Shape Data"
   ]
  },
  {
   "cell_type": "markdown",
   "metadata": {
    "collapsed": true
   },
   "source": [
    "We reuse the shapa data from the first section."
   ]
  },
  {
   "cell_type": "markdown",
   "metadata": {},
   "source": [
    "## Plot"
   ]
  },
  {
   "cell_type": "code",
   "execution_count": 93,
   "metadata": {
    "collapsed": true
   },
   "outputs": [],
   "source": [
    "import matplotlib.pyplot as plt\n",
    "from matplotlib import colors\n",
    "from matplotlib import cm as cmx"
   ]
  },
  {
   "cell_type": "code",
   "execution_count": 94,
   "metadata": {},
   "outputs": [
    {
     "name": "stdout",
     "output_type": "stream",
     "text": [
      "0.0987472787686667\n"
     ]
    }
   ],
   "source": [
    "normalized_df = get_normalized_df(most_recent_houseprice)\n",
    "print(normalized_df.get_value(\"94558\", \"price\"))"
   ]
  },
  {
   "cell_type": "code",
   "execution_count": 96,
   "metadata": {
    "collapsed": true
   },
   "outputs": [],
   "source": [
    "plt.rcParams[\"figure.figsize\"] = [6, 10] # Size: [width, height]"
   ]
  },
  {
   "cell_type": "code",
   "execution_count": 97,
   "metadata": {},
   "outputs": [
    {
     "data": {
      "text/plain": [
       "<matplotlib.figure.Figure at 0x12d685898>"
      ]
     },
     "metadata": {},
     "output_type": "display_data"
    },
    {
     "data": {
      "image/png": "[encoded data removed]",
      "text/plain": [
       "<matplotlib.figure.Figure at 0x12d666e80>"
      ]
     },
     "metadata": {},
     "output_type": "display_data"
    }
   ],
   "source": [
    "plot_shapes(filtered_shape_records, normalized_df, \"price\")"
   ]
  },
  {
   "cell_type": "markdown",
   "metadata": {},
   "source": [
    "# Income v.s. House Price"
   ]
  },
  {
   "cell_type": "code",
   "execution_count": 59,
   "metadata": {},
   "outputs": [
    {
     "data": {
      "text/html": [
       "<div>\n",
       "<style>\n",
       "    .dataframe thead tr:only-child th {\n",
       "        text-align: right;\n",
       "    }\n",
       "\n",
       "    .dataframe thead th {\n",
       "        text-align: left;\n",
       "    }\n",
       "\n",
       "    .dataframe tbody tr th {\n",
       "        vertical-align: top;\n",
       "    }\n",
       "</style>\n",
       "<table border=\"1\" class=\"dataframe\">\n",
       "  <thead>\n",
       "    <tr style=\"text-align: right;\">\n",
       "      <th></th>\n",
       "      <th>income</th>\n",
       "      <th>price</th>\n",
       "      <th>years_needed</th>\n",
       "    </tr>\n",
       "  </thead>\n",
       "  <tbody>\n",
       "    <tr>\n",
       "      <th>94531</th>\n",
       "      <td>90126</td>\n",
       "      <td>479100</td>\n",
       "      <td>5.315891</td>\n",
       "    </tr>\n",
       "    <tr>\n",
       "      <th>94585</th>\n",
       "      <td>70491</td>\n",
       "      <td>383700</td>\n",
       "      <td>5.443248</td>\n",
       "    </tr>\n",
       "    <tr>\n",
       "      <th>94561</th>\n",
       "      <td>81910</td>\n",
       "      <td>455300</td>\n",
       "      <td>5.558540</td>\n",
       "    </tr>\n",
       "    <tr>\n",
       "      <th>94105</th>\n",
       "      <td>195165</td>\n",
       "      <td>1125900</td>\n",
       "      <td>5.768965</td>\n",
       "    </tr>\n",
       "    <tr>\n",
       "      <th>95620</th>\n",
       "      <td>72583</td>\n",
       "      <td>423400</td>\n",
       "      <td>5.833322</td>\n",
       "    </tr>\n",
       "  </tbody>\n",
       "</table>\n",
       "</div>"
      ],
      "text/plain": [
       "       income    price  years_needed\n",
       "94531   90126   479100      5.315891\n",
       "94585   70491   383700      5.443248\n",
       "94561   81910   455300      5.558540\n",
       "94105  195165  1125900      5.768965\n",
       "95620   72583   423400      5.833322"
      ]
     },
     "execution_count": 59,
     "metadata": {},
     "output_type": "execute_result"
    }
   ],
   "source": [
    "# Merge house price and income table\n",
    "income_vs_houseprice = pd.merge(zipcode2income_df, most_recent_houseprice,\n",
    "                                how=\"inner\",left_index=True, right_index=True)\n",
    "income_vs_houseprice[\"years_needed\"] = income_vs_houseprice[\"price\"] / income_vs_houseprice[\"income\"]\n",
    "income_vs_houseprice = income_vs_houseprice.sort_values(\"years_needed\")\n",
    "income_vs_houseprice.head()"
   ]
  },
  {
   "cell_type": "code",
   "execution_count": 61,
   "metadata": {},
   "outputs": [
    {
     "name": "stdout",
     "output_type": "stream",
     "text": [
      "2414300.0 115600.0\n"
     ]
    }
   ],
   "source": [
    "print(income_vs_houseprice.loc[\"94040\"][\"price\"], income_vs_houseprice.loc[\"94040\"][\"income\"])"
   ]
  },
  {
   "cell_type": "markdown",
   "metadata": {},
   "source": [
    "## Living in the same zipcode"
   ]
  },
  {
   "cell_type": "code",
   "execution_count": 101,
   "metadata": {},
   "outputs": [
    {
     "data": {
      "text/html": [
       "<div>\n",
       "<style>\n",
       "    .dataframe thead tr:only-child th {\n",
       "        text-align: right;\n",
       "    }\n",
       "\n",
       "    .dataframe thead th {\n",
       "        text-align: left;\n",
       "    }\n",
       "\n",
       "    .dataframe tbody tr th {\n",
       "        vertical-align: top;\n",
       "    }\n",
       "</style>\n",
       "<table border=\"1\" class=\"dataframe\">\n",
       "  <thead>\n",
       "    <tr style=\"text-align: right;\">\n",
       "      <th></th>\n",
       "      <th>income</th>\n",
       "      <th>price</th>\n",
       "      <th>years_needed</th>\n",
       "    </tr>\n",
       "  </thead>\n",
       "  <tbody>\n",
       "    <tr>\n",
       "      <th>94531</th>\n",
       "      <td>0.314449</td>\n",
       "      <td>0.030418</td>\n",
       "      <td>0.000000</td>\n",
       "    </tr>\n",
       "    <tr>\n",
       "      <th>94585</th>\n",
       "      <td>0.217906</td>\n",
       "      <td>0.007016</td>\n",
       "      <td>0.001979</td>\n",
       "    </tr>\n",
       "    <tr>\n",
       "      <th>94561</th>\n",
       "      <td>0.274052</td>\n",
       "      <td>0.024579</td>\n",
       "      <td>0.003770</td>\n",
       "    </tr>\n",
       "    <tr>\n",
       "      <th>94105</th>\n",
       "      <td>0.830913</td>\n",
       "      <td>0.189079</td>\n",
       "      <td>0.007040</td>\n",
       "    </tr>\n",
       "    <tr>\n",
       "      <th>95620</th>\n",
       "      <td>0.228192</td>\n",
       "      <td>0.016754</td>\n",
       "      <td>0.008040</td>\n",
       "    </tr>\n",
       "  </tbody>\n",
       "</table>\n",
       "</div>"
      ],
      "text/plain": [
       "         income     price  years_needed\n",
       "94531  0.314449  0.030418      0.000000\n",
       "94585  0.217906  0.007016      0.001979\n",
       "94561  0.274052  0.024579      0.003770\n",
       "94105  0.830913  0.189079      0.007040\n",
       "95620  0.228192  0.016754      0.008040"
      ]
     },
     "execution_count": 101,
     "metadata": {},
     "output_type": "execute_result"
    }
   ],
   "source": [
    "normalized_df = get_normalized_df(income_vs_houseprice)\n",
    "normalized_df.head()"
   ]
  },
  {
   "cell_type": "code",
   "execution_count": 102,
   "metadata": {},
   "outputs": [
    {
     "data": {
      "text/plain": [
       "<matplotlib.figure.Figure at 0x12de530f0>"
      ]
     },
     "metadata": {},
     "output_type": "display_data"
    },
    {
     "data": {
      "image/png": "[encoded data removed]",
      "text/plain": [
       "<matplotlib.figure.Figure at 0x12d9b34e0>"
      ]
     },
     "metadata": {},
     "output_type": "display_data"
    }
   ],
   "source": [
    "plot_shapes(filtered_shape_records, normalized_df, \"years_needed\")"
   ]
  },
  {
   "cell_type": "markdown",
   "metadata": {},
   "source": [
    "## Living close to where you work"
   ]
  },
  {
   "cell_type": "code",
   "execution_count": 129,
   "metadata": {
    "collapsed": true
   },
   "outputs": [],
   "source": [
    "import geopy.distance\n",
    "from statistics import median"
   ]
  },
  {
   "cell_type": "code",
   "execution_count": 127,
   "metadata": {},
   "outputs": [],
   "source": [
    "def get_shape_center(shape):\n",
    "    lats = [point[0] for point in shape.points]\n",
    "    lngs = [point[1] for point in shape.points]\n",
    "    return median(lats), median(lngs)"
   ]
  },
  {
   "cell_type": "code",
   "execution_count": 128,
   "metadata": {},
   "outputs": [
    {
     "name": "stdout",
     "output_type": "stream",
     "text": [
      "(-121.603149, 37.37496)\n"
     ]
    }
   ],
   "source": [
    "print(get_shape_center(filtered_shape_records[0].shape))"
   ]
  },
  {
   "cell_type": "code",
   "execution_count": 143,
   "metadata": {},
   "outputs": [],
   "source": [
    "THRESHOLD_MILES = 10 # Maximum miles you want to commute every workday\n",
    "def get_neighbor_list(shape_records):\n",
    "    \n",
    "    # Builds zipcode -> center map\n",
    "    zipcode_center = {}\n",
    "    for rs in shape_records:\n",
    "        zipcode = rs.record[0]\n",
    "        zipcode_center[zipcode] = get_shape_center(rs.shape)\n",
    "    \n",
    "    # Builds neighbor list\n",
    "    neighbor_list = {}\n",
    "    for rs in shape_records:\n",
    "        zipcode = rs.record[0]\n",
    "        center = zipcode_center[zipcode]\n",
    "        neighbor_list[zipcode] = [\n",
    "            neighbor for neighbor in zipcode_center.keys()\n",
    "            if geopy.distance.vincenty(zipcode_center[neighbor], center).miles <= THRESHOLD_MILES\n",
    "        ]\n",
    "    \n",
    "    return neighbor_list"
   ]
  },
  {
   "cell_type": "code",
   "execution_count": 144,
   "metadata": {},
   "outputs": [
    {
     "data": {
      "text/plain": [
       "['94085',\n",
       " '94089',\n",
       " '94027',\n",
       " '94305',\n",
       " '94560',\n",
       " '94086',\n",
       " '94028',\n",
       " '94544',\n",
       " '94306',\n",
       " '94024',\n",
       " '94022',\n",
       " '94025',\n",
       " '94538',\n",
       " '94043',\n",
       " '94301',\n",
       " '94545',\n",
       " '94303',\n",
       " '94040',\n",
       " '94555',\n",
       " '94087',\n",
       " '95002',\n",
       " '94304',\n",
       " '94587']"
      ]
     },
     "execution_count": 144,
     "metadata": {},
     "output_type": "execute_result"
    }
   ],
   "source": [
    "neighbor = get_neighbor_list(filtered_shape_records)\n",
    "neighbor[\"94040\"]"
   ]
  },
  {
   "cell_type": "code",
   "execution_count": null,
   "metadata": {
    "collapsed": true
   },
   "outputs": [],
   "source": []
  }
 ],
 "metadata": {
  "kernelspec": {
   "display_name": "Python 3",
   "language": "python",
   "name": "python3"
  },
  "language_info": {
   "codemirror_mode": {
    "name": "ipython",
    "version": 3
   },
   "file_extension": ".py",
   "mimetype": "text/x-python",
   "name": "python",
   "nbconvert_exporter": "python",
   "pygments_lexer": "ipython3",
   "version": "3.6.3"
  }
 },
 "nbformat": 4,
 "nbformat_minor": 2
}
