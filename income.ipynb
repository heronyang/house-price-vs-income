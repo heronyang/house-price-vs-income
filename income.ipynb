{
 "cells": [
  {
   "cell_type": "markdown",
   "metadata": {},
   "source": [
    "# Setup"
   ]
  },
  {
   "cell_type": "markdown",
   "metadata": {},
   "source": [
    "Run following command in your terminal:\n",
    "\n",
    "    $ pip install -r requirements.txt"
   ]
  },
  {
   "cell_type": "markdown",
   "metadata": {},
   "source": [
    "# Retrieve Zip Code List"
   ]
  },
  {
   "cell_type": "code",
   "execution_count": 1,
   "metadata": {
    "collapsed": true
   },
   "outputs": [],
   "source": [
    "import os\n",
    "import json\n",
    "import ntpath\n",
    "import wget"
   ]
  },
  {
   "cell_type": "code",
   "execution_count": 2,
   "metadata": {
    "collapsed": true
   },
   "outputs": [],
   "source": [
    "\"\"\"\n",
    "Reference: https://catalog.data.gov/dataset/bay-area-zip-codes\n",
    "\"\"\"\n",
    "def get_bay_area_zipcode():\n",
    "    \n",
    "    url = \"https://data.sfgov.org/api/views/f9wk-m4qb/rows.json?accessType=DOWNLOAD\"\n",
    "    filename = \"rows.json\"\n",
    "\n",
    "    # Remove previous downloaded csv file if exists\n",
    "    try:\n",
    "        os.remove(ntpath.basename(filename))\n",
    "    except OSError:\n",
    "        pass\n",
    "    \n",
    "    filename = wget.download(url)\n",
    "    with open(filename) as f:\n",
    "        raw_data = json.load(f)\n",
    "        zipcode_list = [row[10] for row in raw_data[\"data\"]]\n",
    "    return zipcode_list"
   ]
  },
  {
   "cell_type": "code",
   "execution_count": 3,
   "metadata": {},
   "outputs": [
    {
     "name": "stdout",
     "output_type": "stream",
     "text": [
      "['94558', '94533', '95620', '95476', '94559', '94954', '94571', '94535', '94503', '94949']\n"
     ]
    }
   ],
   "source": [
    "zipcode_list = get_bay_area_zipcode()\n",
    "print(zipcode_list[:10])"
   ]
  },
  {
   "cell_type": "markdown",
   "metadata": {},
   "source": [
    "# Retrieve Income Data"
   ]
  },
  {
   "cell_type": "code",
   "execution_count": 4,
   "metadata": {
    "collapsed": true
   },
   "outputs": [],
   "source": [
    "import re\n",
    "import requests\n",
    "from bs4 import BeautifulSoup"
   ]
  },
  {
   "cell_type": "code",
   "execution_count": 5,
   "metadata": {
    "collapsed": true
   },
   "outputs": [],
   "source": [
    "\"\"\"\n",
    "Source: https://factfinder.census.gov/faces/nav/jsf/pages/community_facts.xhtml\n",
    "Example: https://factfinder.census.gov/rest/communityFactsNav/nav?spotlightId=INCOME&searchTerm=94041\n",
    "\"\"\"\n",
    "def get_avg_income_by_zipcode(zipcode):\n",
    "    url = \"https://factfinder.census.gov/rest/communityFactsNav/nav?spotlightId=INCOME&searchTerm=\" + str(zipcode)\n",
    "    req = requests.get(url=url)\n",
    "    html = req.json()[\"CFMetaData\"][\"measureAndLinksContent\"]\n",
    "    dom = BeautifulSoup(html, \"lxml\")\n",
    "    try:\n",
    "        income = re.sub('[^0-9]','', dom.findAll(\"div\", {\"class\": \"value\"})[0].text)\n",
    "    except Exception:\n",
    "        print(\"No value found for zipcode %s\" % zipcode)\n",
    "        return None\n",
    "    print(zipcode, income)\n",
    "    return income"
   ]
  },
  {
   "cell_type": "code",
   "execution_count": 6,
   "metadata": {},
   "outputs": [
    {
     "name": "stdout",
     "output_type": "stream",
     "text": [
      "94558 77299\n"
     ]
    }
   ],
   "source": [
    "# Test\n",
    "zipcode = 94558\n",
    "avg_income = get_avg_income_by_zipcode(zipcode)"
   ]
  },
  {
   "cell_type": "code",
   "execution_count": 7,
   "metadata": {
    "collapsed": true
   },
   "outputs": [],
   "source": [
    "def get_zipcode_income_map(zipcode_list):\n",
    "    zipcode2income = {}\n",
    "    for zipcode in zipcode_list:\n",
    "        income = get_avg_income_by_zipcode(zipcode)\n",
    "        if income:\n",
    "            zipcode2income[zipcode] = int(income)\n",
    "    return zipcode2income"
   ]
  },
  {
   "cell_type": "code",
   "execution_count": 8,
   "metadata": {},
   "outputs": [
    {
     "name": "stdout",
     "output_type": "stream",
     "text": [
      "94558 77299\n",
      "94533 57316\n",
      "95620 72583\n",
      "95476 68894\n",
      "94559 65891\n",
      "94954 83713\n",
      "94571 54852\n",
      "94535 54692\n",
      "94503 83627\n",
      "94949 78568\n",
      "94945 90685\n",
      "No value found for zipcode 94512\n",
      "94591 73897\n",
      "94510 87569\n",
      "94592 110648\n",
      "94589 57316\n",
      "94947 88119\n",
      "94590 41530\n",
      "94946 108750\n",
      "94561 81910\n",
      "94525 78750\n",
      "94569 136875\n",
      "94585 70491\n",
      "94103 46140\n",
      "94565 60020\n",
      "94903 92552\n",
      "94520 51096\n",
      "94572 70227\n",
      "94553 84638\n",
      "94547 102993\n",
      "94963 91806\n",
      "94938 103854\n",
      "94502 115765\n",
      "94509 55022\n",
      "94960 112045\n",
      "94513 93951\n",
      "94109 71043\n",
      "94521 88339\n",
      "94930 99338\n",
      "94973 90824\n",
      "94933 76393\n",
      "94598 125089\n",
      "94564 73861\n",
      "94801 43393\n",
      "94519 74351\n",
      "94806 52698\n",
      "94901 82231\n",
      "94531 90126\n",
      "94803 78759\n",
      "94601 41918\n",
      "94523 94042\n",
      "94518 78301\n",
      "94904 111845\n",
      "94115 97090\n",
      "94549 147368\n",
      "94517 128398\n",
      "94805 72009\n",
      "94804 51276\n",
      "94939 99844\n",
      "94964 107167\n",
      "94530 91052\n",
      "94925 125915\n",
      "94596 82869\n",
      "94708 147837\n",
      "94105 195165\n",
      "94941 131703\n",
      "94563 174526\n",
      "No value found for zipcode 94720\n",
      "94707 140711\n",
      "94514 54348\n",
      "94970 109412\n",
      "94706 86043\n",
      "94710 63080\n",
      "94104 51500\n",
      "94595 62374\n",
      "94709 63701\n",
      "94703 68842\n",
      "94704 26173\n",
      "94507 172414\n",
      "94702 67280\n",
      "94965 102415\n",
      "94556 136771\n",
      "94920 155710\n",
      "94118 94197\n",
      "94705 105461\n",
      "94611 115065\n",
      "94618 139570\n",
      "94609 67827\n",
      "94550 109793\n",
      "94608 61069\n",
      "No value found for zipcode 94528\n",
      "94526 138287\n",
      "94506 175947\n",
      "94130 49271\n",
      "94607 35360\n",
      "94123 130589\n",
      "94610 83052\n",
      "94583 129182\n",
      "94602 72850\n",
      "94612 35977\n",
      "94546 78556\n",
      "94133 55098\n",
      "94129 174564\n",
      "94606 43314\n",
      "94111 104083\n",
      "94619 79225\n",
      "94121 77280\n",
      "94102 29456\n",
      "94552 131108\n",
      "94501 76787\n",
      "94108 46218\n",
      "94605 62061\n",
      "No value found for zipcode 94613\n",
      "94117 122266\n",
      "94122 97091\n",
      "94621 31027\n",
      "94114 131442\n",
      "94107 129152\n",
      "94110 97563\n",
      "94588 130888\n",
      "94131 111083\n",
      "94603 44294\n",
      "94116 91930\n",
      "94124 53322\n",
      "94127 138381\n",
      "94577 65009\n",
      "94132 68711\n",
      "94112 77388\n",
      "94134 66925\n",
      "94568 126054\n",
      "94578 50838\n",
      "94015 81956\n",
      "94005 91127\n",
      "94014 75658\n",
      "94579 73771\n",
      "94580 80188\n",
      "94541 63801\n",
      "94566 129064\n",
      "94542 99647\n",
      "94544 62660\n",
      "94044 103545\n",
      "94545 81125\n",
      "94586 91932\n",
      "94080 85204\n",
      "94587 91629\n",
      "94066 89008\n",
      "No value found for zipcode 94128\n",
      "94401 76361\n",
      "94019 107265\n",
      "94030 98709\n",
      "94555 124947\n",
      "94038 94423\n",
      "94010 125768\n",
      "94536 102450\n",
      "94539 152402\n",
      "94402 128163\n",
      "94404 126618\n",
      "94403 103612\n",
      "94538 94193\n",
      "94560 91965\n",
      "94065 145518\n",
      "94063 60434\n",
      "94027 243542\n",
      "94002 119530\n",
      "94070 135030\n",
      "95134 126515\n",
      "95002 74516\n",
      "94062 135808\n",
      "94089 94903\n",
      "94301 135427\n",
      "94025 131854\n",
      "94303 91866\n",
      "95035 103545\n",
      "No value found for zipcode 95140\n",
      "94061 89578\n",
      "94043 105030\n",
      "94304 105320\n",
      "94305 53173\n",
      "No value found for zipcode 94035\n",
      "94306 119157\n",
      "94028 229554\n",
      "94040 115600\n",
      "94022 194014\n",
      "94085 101051\n",
      "94086 104449\n",
      "94024 204534\n",
      "94087 129668\n"
     ]
    }
   ],
   "source": [
    "zipcode2income = get_zipcode_income_map(zipcode_list)"
   ]
  },
  {
   "cell_type": "markdown",
   "metadata": {},
   "source": [
    "# Retrieve Shape Data"
   ]
  },
  {
   "cell_type": "code",
   "execution_count": 9,
   "metadata": {},
   "outputs": [],
   "source": [
    "import os\n",
    "import zipfile\n",
    "import shutil\n",
    "import shapefile"
   ]
  },
  {
   "cell_type": "code",
   "execution_count": 10,
   "metadata": {
    "collapsed": true
   },
   "outputs": [],
   "source": [
    "\"\"\"\n",
    "Source: https://www.census.gov/geo/maps-data/data/cbf/cbf_zcta.html\n",
    "\"\"\"\n",
    "def download_zipcode_shapefile():\n",
    "    \n",
    "    url = \"http://www2.census.gov/geo/tiger/GENZ2016/shp/cb_2016_us_zcta510_500k.zip\"\n",
    "    output = \"./data/\"\n",
    "    target = \"./data/cb_2016_us_zcta510_500k.shp\"\n",
    "    \n",
    "    # Remove previous extracted folder if exists\n",
    "    try:\n",
    "        shutil.rmtree(output)\n",
    "    except OSError:\n",
    "        pass\n",
    "    \n",
    "    # Remove previous downloaded zip file if exists\n",
    "    try:\n",
    "        os.remove(ntpath.basename(url))\n",
    "    except OSError:\n",
    "        pass\n",
    "    \n",
    "    # Download and extract\n",
    "    zip_data = wget.download(url)\n",
    "    with zipfile.ZipFile(zip_data) as zip_ref:\n",
    "        zip_ref.extractall(output)\n",
    "        \n",
    "    return target"
   ]
  },
  {
   "cell_type": "code",
   "execution_count": 11,
   "metadata": {},
   "outputs": [],
   "source": [
    "raw_data = download_zipcode_shapefile()\n",
    "shape_records = shapefile.Reader(raw_data).shapeRecords()"
   ]
  },
  {
   "cell_type": "code",
   "execution_count": 12,
   "metadata": {
    "collapsed": true
   },
   "outputs": [],
   "source": [
    "def filter_shape_record(shape_records, zipcode_list):\n",
    "    filtered = []\n",
    "    for sr in shape_records:\n",
    "        if sr.record[0] in zipcode_list:\n",
    "            filtered.append(sr)\n",
    "    return filtered"
   ]
  },
  {
   "cell_type": "code",
   "execution_count": 13,
   "metadata": {},
   "outputs": [
    {
     "name": "stdout",
     "output_type": "stream",
     "text": [
      "186 187\n"
     ]
    }
   ],
   "source": [
    "filtered_shape_records = filter_shape_record(shape_records, zipcode_list)\n",
    "print(len(filtered_shape_records), len(zipcode_list))"
   ]
  },
  {
   "cell_type": "markdown",
   "metadata": {},
   "source": [
    "# Plot"
   ]
  },
  {
   "cell_type": "code",
   "execution_count": 14,
   "metadata": {},
   "outputs": [],
   "source": [
    "import pandas as pd\n",
    "import matplotlib.pyplot as plt\n",
    "from matplotlib import colors\n",
    "from matplotlib import cm as cmx"
   ]
  },
  {
   "cell_type": "code",
   "execution_count": 15,
   "metadata": {},
   "outputs": [],
   "source": [
    "def get_normalized_df(dic):\n",
    "    df = pd.DataFrame.from_dict(dic, orient = \"index\")\n",
    "    df.columns = [\"income\"]\n",
    "    return (df - df.min()) / (df.max() - df.min())"
   ]
  },
  {
   "cell_type": "code",
   "execution_count": 16,
   "metadata": {},
   "outputs": [
    {
     "name": "stdout",
     "output_type": "stream",
     "text": [
      "0.235203731903\n"
     ]
    }
   ],
   "source": [
    "normalized_df = get_normalized_df(zipcode2income)\n",
    "print(normalized_df.get_value(\"94558\", \"income\"))"
   ]
  },
  {
   "cell_type": "code",
   "execution_count": 17,
   "metadata": {},
   "outputs": [],
   "source": [
    "\"\"\"\n",
    "Reference: https://gis.stackexchange.com/questions/131716/plot-shapefile-with-matplotlib\n",
    "\"\"\"\n",
    "def plot_shapes(shape_records, record2value):\n",
    "    plt.figure()\n",
    "    for sr in shape_records:\n",
    "        index = sr.record[0]\n",
    "        try:\n",
    "            val = record2value.get_value(index, \"income\")\n",
    "        except KeyError:\n",
    "            continue\n",
    "        x = [i[0] for i in sr.shape.points[:]]\n",
    "        y = [i[1] for i in sr.shape.points[:]]\n",
    "        plt.fill(x, y, get_heapmap_color_hex(val))\n",
    "    plt.show()"
   ]
  },
  {
   "cell_type": "code",
   "execution_count": 18,
   "metadata": {
    "collapsed": true
   },
   "outputs": [],
   "source": [
    "\"\"\"\n",
    "Jet colormap: https://www.mathworks.com/help/matlab/ref/jet.html\n",
    "\"\"\"\n",
    "def get_heapmap_color_hex(val):\n",
    "    r, g, b = plt.cm.jet(val)[:3]\n",
    "    return \"#%02x%02x%02x\" % (int(r * 255), int(g * 255), int(b * 255))"
   ]
  },
  {
   "cell_type": "code",
   "execution_count": 19,
   "metadata": {},
   "outputs": [
    {
     "name": "stdout",
     "output_type": "stream",
     "text": [
      "#7cff79\n",
      "#7f0000\n"
     ]
    }
   ],
   "source": [
    "print(get_heapmap_color_hex(0.5))\n",
    "print(get_heapmap_color_hex(1.0))"
   ]
  },
  {
   "cell_type": "code",
   "execution_count": 20,
   "metadata": {},
   "outputs": [
    {
     "data": {
      "image/png": "[encoded data removed]",
      "text/plain": [
       "<matplotlib.figure.Figure at 0x13fcabfd0>"
      ]
     },
     "metadata": {},
     "output_type": "display_data"
    }
   ],
   "source": [
    "plt.rcParams[\"figure.figsize\"] = [6, 10] # Size: [width, height]\n",
    "plot_shapes(filtered_shape_records, normalized_df)"
   ]
  }
 ],
 "metadata": {
  "kernelspec": {
   "display_name": "Python 3",
   "language": "python",
   "name": "python3"
  },
  "language_info": {
   "codemirror_mode": {
    "name": "ipython",
    "version": 3
   },
   "file_extension": ".py",
   "mimetype": "text/x-python",
   "name": "python",
   "nbconvert_exporter": "python",
   "pygments_lexer": "ipython3",
   "version": "3.6.3"
  }
 },
 "nbformat": 4,
 "nbformat_minor": 2
}
