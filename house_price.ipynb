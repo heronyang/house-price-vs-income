{
 "cells": [
  {
   "cell_type": "code",
   "execution_count": 1,
   "metadata": {
    "collapsed": true
   },
   "outputs": [],
   "source": [
    "import pandas as pd\n",
    "from income import *\n",
    "import os\n",
    "import shapefile"
   ]
  },
  {
   "cell_type": "markdown",
   "metadata": {},
   "source": [
    "## Retrieve Zip Code List ##"
   ]
  },
  {
   "cell_type": "code",
   "execution_count": 2,
   "metadata": {
    "collapsed": true
   },
   "outputs": [],
   "source": [
    "zipcode_list = get_bay_area_zipcode()"
   ]
  },
  {
   "cell_type": "markdown",
   "metadata": {},
   "source": [
    "## Retrieve House Price Data ##\n",
    "\n",
    "The house price data is downloaded from [Zillow](https://www.zillow.com/research/data/), that has the house price from 1996 to 2018. For this project, we will use the most recent house price."
   ]
  },
  {
   "cell_type": "code",
   "execution_count": 3,
   "metadata": {
    "collapsed": true
   },
   "outputs": [],
   "source": [
    "def load_data(file_name):\n",
    "    \n",
    "    df = pd.read_csv(file_name, na_filter=False)\n",
    "        \n",
    "    # drop instance with missing values\n",
    "    df = df.replace(\"\", pd.np.nan).dropna(how='any')\n",
    "    \n",
    "    # convert values to int data type\n",
    "    y = \"1996\"\n",
    "    m = \"04\"\n",
    "    date = y + \"-\" + m\n",
    "    while date != \"2018-02\":        \n",
    "        df[date] = df[date].apply(pd.to_numeric)       \n",
    "        if m == \"12\":\n",
    "            m = \"01\"\n",
    "            y = str(int(y)+1)\n",
    "        else:\n",
    "            m = int(m)+1\n",
    "            if m < 10:\n",
    "                m = \"0\"+str(m)\n",
    "            else:\n",
    "                m = str(m)       \n",
    "        date = y + \"-\" + m\n",
    "    \n",
    "    # convert zipcode to string data type\n",
    "    df['RegionName'] = df['RegionName'].apply(str)\n",
    "    \n",
    "    # set zipcode as index\n",
    "    df.set_index('RegionName', inplace=True)\n",
    "    return df\n",
    "\n",
    "houses = load_data(\"homes_CA.csv\")"
   ]
  },
  {
   "cell_type": "code",
   "execution_count": 4,
   "metadata": {
    "scrolled": true
   },
   "outputs": [
    {
     "data": {
      "text/html": [
       "<div>\n",
       "<table border=\"1\" class=\"dataframe\">\n",
       "  <thead>\n",
       "    <tr style=\"text-align: right;\">\n",
       "      <th></th>\n",
       "      <th>﻿RegionID</th>\n",
       "      <th>City</th>\n",
       "      <th>State</th>\n",
       "      <th>Metro</th>\n",
       "      <th>CountyName</th>\n",
       "      <th>SizeRank</th>\n",
       "      <th>1996-04</th>\n",
       "      <th>1996-05</th>\n",
       "      <th>1996-06</th>\n",
       "      <th>1996-07</th>\n",
       "      <th>...</th>\n",
       "      <th>2017-05</th>\n",
       "      <th>2017-06</th>\n",
       "      <th>2017-07</th>\n",
       "      <th>2017-08</th>\n",
       "      <th>2017-09</th>\n",
       "      <th>2017-10</th>\n",
       "      <th>2017-11</th>\n",
       "      <th>2017-12</th>\n",
       "      <th>2018-01</th>\n",
       "      <th>2018-02</th>\n",
       "    </tr>\n",
       "    <tr>\n",
       "      <th>RegionName</th>\n",
       "      <th></th>\n",
       "      <th></th>\n",
       "      <th></th>\n",
       "      <th></th>\n",
       "      <th></th>\n",
       "      <th></th>\n",
       "      <th></th>\n",
       "      <th></th>\n",
       "      <th></th>\n",
       "      <th></th>\n",
       "      <th></th>\n",
       "      <th></th>\n",
       "      <th></th>\n",
       "      <th></th>\n",
       "      <th></th>\n",
       "      <th></th>\n",
       "      <th></th>\n",
       "      <th></th>\n",
       "      <th></th>\n",
       "      <th></th>\n",
       "      <th></th>\n",
       "    </tr>\n",
       "  </thead>\n",
       "  <tbody>\n",
       "    <tr>\n",
       "      <th>93306</th>\n",
       "      <td>97222</td>\n",
       "      <td>Bakersfield</td>\n",
       "      <td>CA</td>\n",
       "      <td>Bakersfield</td>\n",
       "      <td>Kern</td>\n",
       "      <td>333</td>\n",
       "      <td>86800</td>\n",
       "      <td>87100</td>\n",
       "      <td>87500</td>\n",
       "      <td>88200</td>\n",
       "      <td>...</td>\n",
       "      <td>186300</td>\n",
       "      <td>186300</td>\n",
       "      <td>186500</td>\n",
       "      <td>187000</td>\n",
       "      <td>187700</td>\n",
       "      <td>188500</td>\n",
       "      <td>189400</td>\n",
       "      <td>190600</td>\n",
       "      <td>192100</td>\n",
       "      <td>193700</td>\n",
       "    </tr>\n",
       "    <tr>\n",
       "      <th>93307</th>\n",
       "      <td>97223</td>\n",
       "      <td>Bakersfield</td>\n",
       "      <td>CA</td>\n",
       "      <td>Bakersfield</td>\n",
       "      <td>Kern</td>\n",
       "      <td>343</td>\n",
       "      <td>67000</td>\n",
       "      <td>66800</td>\n",
       "      <td>67100</td>\n",
       "      <td>67800</td>\n",
       "      <td>...</td>\n",
       "      <td>159100</td>\n",
       "      <td>159600</td>\n",
       "      <td>159400</td>\n",
       "      <td>159200</td>\n",
       "      <td>159900</td>\n",
       "      <td>160300</td>\n",
       "      <td>160800</td>\n",
       "      <td>161500</td>\n",
       "      <td>162600</td>\n",
       "      <td>164000</td>\n",
       "    </tr>\n",
       "    <tr>\n",
       "      <th>93309</th>\n",
       "      <td>97225</td>\n",
       "      <td>Bakersfield</td>\n",
       "      <td>CA</td>\n",
       "      <td>Bakersfield</td>\n",
       "      <td>Kern</td>\n",
       "      <td>348</td>\n",
       "      <td>89000</td>\n",
       "      <td>89200</td>\n",
       "      <td>89100</td>\n",
       "      <td>88700</td>\n",
       "      <td>...</td>\n",
       "      <td>188300</td>\n",
       "      <td>189300</td>\n",
       "      <td>189700</td>\n",
       "      <td>190300</td>\n",
       "      <td>191200</td>\n",
       "      <td>191900</td>\n",
       "      <td>192000</td>\n",
       "      <td>192200</td>\n",
       "      <td>193200</td>\n",
       "      <td>194500</td>\n",
       "    </tr>\n",
       "    <tr>\n",
       "      <th>93308</th>\n",
       "      <td>97224</td>\n",
       "      <td>Oildale</td>\n",
       "      <td>CA</td>\n",
       "      <td>Bakersfield</td>\n",
       "      <td>Kern</td>\n",
       "      <td>587</td>\n",
       "      <td>82700</td>\n",
       "      <td>83500</td>\n",
       "      <td>84000</td>\n",
       "      <td>84700</td>\n",
       "      <td>...</td>\n",
       "      <td>190000</td>\n",
       "      <td>190500</td>\n",
       "      <td>191000</td>\n",
       "      <td>191100</td>\n",
       "      <td>191000</td>\n",
       "      <td>191100</td>\n",
       "      <td>191700</td>\n",
       "      <td>191800</td>\n",
       "      <td>192600</td>\n",
       "      <td>194100</td>\n",
       "    </tr>\n",
       "    <tr>\n",
       "      <th>93312</th>\n",
       "      <td>97227</td>\n",
       "      <td>Bakersfield</td>\n",
       "      <td>CA</td>\n",
       "      <td>Bakersfield</td>\n",
       "      <td>Kern</td>\n",
       "      <td>747</td>\n",
       "      <td>132400</td>\n",
       "      <td>132300</td>\n",
       "      <td>132300</td>\n",
       "      <td>131900</td>\n",
       "      <td>...</td>\n",
       "      <td>272500</td>\n",
       "      <td>272700</td>\n",
       "      <td>272500</td>\n",
       "      <td>272900</td>\n",
       "      <td>273800</td>\n",
       "      <td>274700</td>\n",
       "      <td>275600</td>\n",
       "      <td>276600</td>\n",
       "      <td>277900</td>\n",
       "      <td>279600</td>\n",
       "    </tr>\n",
       "  </tbody>\n",
       "</table>\n",
       "<p>5 rows × 269 columns</p>\n",
       "</div>"
      ],
      "text/plain": [
       "            ﻿RegionID         City State        Metro CountyName  SizeRank  \\\n",
       "RegionName                                                                   \n",
       "93306           97222  Bakersfield    CA  Bakersfield       Kern       333   \n",
       "93307           97223  Bakersfield    CA  Bakersfield       Kern       343   \n",
       "93309           97225  Bakersfield    CA  Bakersfield       Kern       348   \n",
       "93308           97224      Oildale    CA  Bakersfield       Kern       587   \n",
       "93312           97227  Bakersfield    CA  Bakersfield       Kern       747   \n",
       "\n",
       "            1996-04  1996-05  1996-06  1996-07   ...     2017-05  2017-06  \\\n",
       "RegionName                                       ...                        \n",
       "93306         86800    87100    87500    88200   ...      186300   186300   \n",
       "93307         67000    66800    67100    67800   ...      159100   159600   \n",
       "93309         89000    89200    89100    88700   ...      188300   189300   \n",
       "93308         82700    83500    84000    84700   ...      190000   190500   \n",
       "93312        132400   132300   132300   131900   ...      272500   272700   \n",
       "\n",
       "            2017-07  2017-08  2017-09  2017-10  2017-11  2017-12  2018-01  \\\n",
       "RegionName                                                                  \n",
       "93306        186500   187000   187700   188500   189400   190600   192100   \n",
       "93307        159400   159200   159900   160300   160800   161500   162600   \n",
       "93309        189700   190300   191200   191900   192000   192200   193200   \n",
       "93308        191000   191100   191000   191100   191700   191800   192600   \n",
       "93312        272500   272900   273800   274700   275600   276600   277900   \n",
       "\n",
       "            2018-02  \n",
       "RegionName           \n",
       "93306        193700  \n",
       "93307        164000  \n",
       "93309        194500  \n",
       "93308        194100  \n",
       "93312        279600  \n",
       "\n",
       "[5 rows x 269 columns]"
      ]
     },
     "execution_count": 4,
     "metadata": {},
     "output_type": "execute_result"
    }
   ],
   "source": [
    "houses.head()"
   ]
  },
  {
   "cell_type": "markdown",
   "metadata": {},
   "source": [
    "## Get the Most Recent House Price ##"
   ]
  },
  {
   "cell_type": "code",
   "execution_count": 5,
   "metadata": {
    "collapsed": true
   },
   "outputs": [],
   "source": [
    "def get_most_recent_houseprice(df):\n",
    "    house_price = df[[\"2018-02\"]].copy()\n",
    "    house_price.rename(columns={\"2018-02\": \"price\"}, inplace=True)\n",
    "    return house_price\n",
    "\n",
    "most_recent_houseprice = get_most_recent_houseprice(houses)   "
   ]
  },
  {
   "cell_type": "code",
   "execution_count": 6,
   "metadata": {},
   "outputs": [
    {
     "data": {
      "text/html": [
       "<div>\n",
       "<table border=\"1\" class=\"dataframe\">\n",
       "  <thead>\n",
       "    <tr style=\"text-align: right;\">\n",
       "      <th></th>\n",
       "      <th>price</th>\n",
       "    </tr>\n",
       "    <tr>\n",
       "      <th>RegionName</th>\n",
       "      <th></th>\n",
       "    </tr>\n",
       "  </thead>\n",
       "  <tbody>\n",
       "    <tr>\n",
       "      <th>93306</th>\n",
       "      <td>193700</td>\n",
       "    </tr>\n",
       "    <tr>\n",
       "      <th>93307</th>\n",
       "      <td>164000</td>\n",
       "    </tr>\n",
       "    <tr>\n",
       "      <th>93309</th>\n",
       "      <td>194500</td>\n",
       "    </tr>\n",
       "    <tr>\n",
       "      <th>93308</th>\n",
       "      <td>194100</td>\n",
       "    </tr>\n",
       "    <tr>\n",
       "      <th>93312</th>\n",
       "      <td>279600</td>\n",
       "    </tr>\n",
       "  </tbody>\n",
       "</table>\n",
       "</div>"
      ],
      "text/plain": [
       "             price\n",
       "RegionName        \n",
       "93306       193700\n",
       "93307       164000\n",
       "93309       194500\n",
       "93308       194100\n",
       "93312       279600"
      ]
     },
     "execution_count": 6,
     "metadata": {},
     "output_type": "execute_result"
    }
   ],
   "source": [
    "most_recent_houseprice.head()"
   ]
  },
  {
   "cell_type": "markdown",
   "metadata": {},
   "source": [
    "## Retrieve Shape Data ##"
   ]
  },
  {
   "cell_type": "code",
   "execution_count": 7,
   "metadata": {
    "collapsed": true
   },
   "outputs": [],
   "source": [
    "raw_data = download_zipcode_shapefile()\n",
    "shape_records = shapefile.Reader(raw_data).shapeRecords()"
   ]
  },
  {
   "cell_type": "code",
   "execution_count": 8,
   "metadata": {
    "collapsed": true
   },
   "outputs": [],
   "source": [
    "filtered_shape_records = filter_shape_record(shape_records, zipcode_list)"
   ]
  },
  {
   "cell_type": "markdown",
   "metadata": {},
   "source": [
    "## Plot ##"
   ]
  },
  {
   "cell_type": "code",
   "execution_count": 9,
   "metadata": {
    "collapsed": true
   },
   "outputs": [],
   "source": [
    "import matplotlib.pyplot as plt\n",
    "from matplotlib import colors\n",
    "from matplotlib import cm as cmx"
   ]
  },
  {
   "cell_type": "code",
   "execution_count": 10,
   "metadata": {},
   "outputs": [
    {
     "name": "stdout",
     "output_type": "stream",
     "text": [
      "0.0987472787686667\n"
     ]
    }
   ],
   "source": [
    "def get_normalized_df(df):\n",
    " \n",
    "    return (df - df.min()) / (df.max() - df.min())\n",
    "\n",
    "normalized_df = get_normalized_df(most_recent_houseprice)\n",
    "print(normalized_df.get_value(\"94558\", \"price\"))\n"
   ]
  },
  {
   "cell_type": "code",
   "execution_count": 11,
   "metadata": {
    "collapsed": true
   },
   "outputs": [],
   "source": [
    "def plot_shape_price(shape_records, df):\n",
    "    plt.figure()\n",
    "    for sr in shape_records:\n",
    "        index = sr.record[0]\n",
    "        try:\n",
    "            val = df.get_value(index, \"price\")\n",
    "        except KeyError:\n",
    "            continue\n",
    "        x = [i[0] for i in sr.shape.points[:]]\n",
    "        y = [i[1] for i in sr.shape.points[:]]\n",
    "        plt.fill(x, y, get_heapmap_color_hex(val))\n",
    "    plt.show()    "
   ]
  },
  {
   "cell_type": "code",
   "execution_count": 12,
   "metadata": {
    "collapsed": true
   },
   "outputs": [],
   "source": [
    "plt.rcParams[\"figure.figsize\"] = [6, 10] # Size: [width, height]\n"
   ]
  },
  {
   "cell_type": "code",
   "execution_count": 13,
   "metadata": {},
   "outputs": [
    {
     "data": {
      "image/png": "[encoded data removed]",
      "text/plain": [
       "<matplotlib.figure.Figure at 0x10b501710>"
      ]
     },
     "metadata": {},
     "output_type": "display_data"
    }
   ],
   "source": [
    "plot_shape_price(filtered_shape_records, normalized_df)\n"
   ]
  },
  {
   "cell_type": "code",
   "execution_count": null,
   "metadata": {
    "collapsed": true
   },
   "outputs": [],
   "source": []
  }
 ],
 "metadata": {
  "kernelspec": {
   "display_name": "Python 3",
   "language": "python",
   "name": "python3"
  },
  "language_info": {
   "codemirror_mode": {
    "name": "ipython",
    "version": 3
   },
   "file_extension": ".py",
   "mimetype": "text/x-python",
   "name": "python",
   "nbconvert_exporter": "python",
   "pygments_lexer": "ipython3",
   "version": "3.6.4"
  }
 },
 "nbformat": 4,
 "nbformat_minor": 2
}
